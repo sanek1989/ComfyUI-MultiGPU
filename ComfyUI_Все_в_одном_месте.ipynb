{
  "cells": [
    {
      "cell_type": "markdown",
      "metadata": {
        "id": "view-in-github",
        "colab_type": "text"
      },
      "source": [
        "<a href=\"https://colab.research.google.com/github/sanek1989/ComfyUI-MultiGPU/blob/main/ComfyUI_%D0%92%D1%81%D0%B5_%D0%B2_%D0%BE%D0%B4%D0%BD%D0%BE%D0%BC_%D0%BC%D0%B5%D1%81%D1%82%D0%B5.ipynb\" target=\"_parent\"><img src=\"https://colab.research.google.com/assets/colab-badge.svg\" alt=\"Open In Colab\"/></a>"
      ]
    },
    {
      "cell_type": "markdown",
      "metadata": {
        "id": "aaaaaaaaaa"
      },
      "source": [
        "## Важная информация все нейронки работают в среде выполнение T4\n",
        "\n",
        "![Скриншот 03-04-2025 192426.png](data:image/png;base64,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)\n",
        "---\n",
        "\n",
        "\n",
        "### ***Установка ComfyUI где будут работать нейронки***"
      ]
    },
    {
      "cell_type": "markdown",
      "source": [
        "***Я не рекомендую включать гугл диск оставьти галочки все как есть***"
      ],
      "metadata": {
        "id": "lECq5EYTHjZw"
      }
    },
    {
      "cell_type": "code",
      "execution_count": null,
      "metadata": {
        "id": "bbbbbbbbbb"
      },
      "outputs": [],
      "source": [
        "# @title Установка ComfyUI {\"form-width\":\"390px\",\"display-mode\":\"form\"}\n",
        "# #@title Environment Setup\n",
        "\n",
        "print(\"🏗️ Установка ComfyUI Дождитесь установки...\")\n",
        "from pathlib import Path\n",
        "\n",
        "OPTIONS = {}\n",
        "\n",
        "USE_GOOGLE_DRIVE = False  #@param {type:\"boolean\"}\n",
        "UPDATE_COMFY_UI = True  #@param {type:\"boolean\"}\n",
        "USE_COMFYUI_MANAGER = True  #@param {type:\"boolean\"}\n",
        "INSTALL_CUSTOM_NODES_DEPENDENCIES = True  #@param {type:\"boolean\"}\n",
        "OPTIONS['USE_GOOGLE_DRIVE'] = USE_GOOGLE_DRIVE\n",
        "OPTIONS['UPDATE_COMFY_UI'] = UPDATE_COMFY_UI\n",
        "OPTIONS['USE_COMFYUI_MANAGER'] = USE_COMFYUI_MANAGER\n",
        "OPTIONS['INSTALL_CUSTOM_NODES_DEPENDENCIES'] = INSTALL_CUSTOM_NODES_DEPENDENCIES\n",
        "\n",
        "current_dir = !pwd\n",
        "WORKSPACE = \"/content/ComfyUI\"\n",
        "\n",
        "if OPTIONS['USE_GOOGLE_DRIVE']:\n",
        "    !echo \"Mounting Google Drive...\"\n",
        "    %cd /\n",
        "\n",
        "    from google.colab import drive\n",
        "    drive.mount('/content/drive')\n",
        "\n",
        "    WORKSPACE = \"/content/drive/MyDrive/ComfyUI\"\n",
        "    %cd /content/drive/MyDrive\n",
        "\n",
        "![ ! -d $WORKSPACE ] && echo -= Initial setup ComfyUI =- && git clone https://github.com/comfyanonymous/ComfyUI\n",
        "%cd $WORKSPACE\n",
        "\n",
        "if OPTIONS['UPDATE_COMFY_UI']:\n",
        "  !echo -= Updating ComfyUI =-\n",
        "\n",
        "  # Correction of the issue of permissions being deleted on Google Drive.\n",
        "  ![ -f \".ci/nightly/update_windows/update_comfyui_and_python_dependencies.bat\" ] && chmod 755 .ci/nightly/update_windows/update_comfyui_and_python_dependencies.bat\n",
        "  ![ -f \".ci/nightly/windows_base_files/run_nvidia_gpu.bat\" ] && chmod 755 .ci/nightly/windows_base_files/run_nvidia_gpu.bat\n",
        "  ![ -f \".ci/update_windows/update_comfyui_and_python_dependencies.bat\" ] && chmod 755 .ci/update_windows/update_comfyui_and_python_dependencies.bat\n",
        "  ![ -f \".ci/update_windows_cu118/update_comfyui_and_python_dependencies.bat\" ] && chmod 755 .ci/update_windows_cu118/update_comfyui_and_python_dependencies.bat\n",
        "  ![ -f \".ci/update_windows/update.py\" ] && chmod 755 .ci/update_windows/update.py\n",
        "  ![ -f \".ci/update_windows/update_comfyui.bat\" ] && chmod 755 .ci/update_windows/update_comfyui.bat\n",
        "  ![ -f \".ci/update_windows/README_VERY_IMPORTANT.txt\" ] && chmod 755 .ci/update_windows/README_VERY_IMPORTANT.txt\n",
        "  ![ -f \".ci/update_windows/run_cpu.bat\" ] && chmod 755 .ci/update_windows/run_cpu.bat\n",
        "  ![ -f \".ci/update_windows/run_nvidia_gpu.bat\" ] && chmod 755 .ci/update_windows/run_nvidia_gpu.bat\n",
        "\n",
        "  !git pull\n",
        "\n",
        "!echo -= Install dependencies =-\n",
        "!pip3 install accelerate\n",
        "!pip3 install einops transformers>=4.28.1 safetensors>=0.4.2 aiohttp pyyaml Pillow scipy tqdm psutil tokenizers>=0.13.3\n",
        "!pip3 install torch torchvision torchaudio --index-url https://download.pytorch.org/whl/cu121\n",
        "!pip3 install torchsde\n",
        "!pip3 install kornia>=0.7.1 spandrel soundfile sentencepiece\n",
        "\n",
        "if OPTIONS['USE_COMFYUI_MANAGER']:\n",
        "  %cd custom_nodes\n",
        "\n",
        "  # Correction of the issue of permissions being deleted on Google Drive.\n",
        "  ![ -f \"ComfyUI-Manager/check.sh\" ] && chmod 755 ComfyUI-Manager/check.sh\n",
        "  ![ -f \"ComfyUI-Manager/scan.sh\" ] && chmod 755 ComfyUI-Manager/scan.sh\n",
        "  ![ -f \"ComfyUI-Manager/node_db/dev/scan.sh\" ] && chmod 755 ComfyUI-Manager/node_db/dev/scan.sh\n",
        "  ![ -f \"ComfyUI-Manager/node_db/tutorial/scan.sh\" ] && chmod 755 ComfyUI-Manager/node_db/tutorial/scan.sh\n",
        "  ![ -f \"ComfyUI-Manager/scripts/install-comfyui-venv-linux.sh\" ] && chmod 755 ComfyUI-Manager/scripts/install-comfyui-venv-linux.sh\n",
        "  ![ -f \"ComfyUI-Manager/scripts/install-comfyui-venv-win.bat\" ] && chmod 755 ComfyUI-Manager/scripts/install-comfyui-venv-win.bat\n",
        "\n",
        "  ![ ! -d ComfyUI-Manager ] && echo -= Initial setup ComfyUI-Manager =- && git clone https://github.com/ltdrdata/ComfyUI-Manager\n",
        "  %cd ComfyUI-Manager\n",
        "  !git pull\n",
        "\n",
        "%cd $WORKSPACE\n",
        "\n",
        "if OPTIONS['INSTALL_CUSTOM_NODES_DEPENDENCIES']:\n",
        "  !echo -= Install custom nodes dependencies =-\n",
        "  !pip install GitPython\n",
        "  !python custom_nodes/ComfyUI-Manager/cm-cli.py restore-dependencies\n",
        "clear_output()\n",
        "\n",
        "print(\"✅ Установка завершена успешно! Теперь можно выбрать нейросеть для работы\")"
      ]
    },
    {
      "cell_type": "markdown",
      "source": [
        "\n",
        "\n",
        "\n",
        "---\n",
        "\n",
        "\n",
        "## ***Выберите модель нейросети с которой будите работать и дождитесь установки***\n",
        "\n",
        "---\n",
        "\n"
      ],
      "metadata": {
        "id": "nzTJGLD_5MVY"
      }
    },
    {
      "cell_type": "markdown",
      "source": [
        "***Wan 2.1 нейронка для генерации видео.***\n",
        "\n",
        "*   [Рабочий процесс](https://vk.com/darina_plush_toys)\n",
        "*   [Видео инструкция](https://vk.com/darina_plush_toys)\n",
        "\n",
        "\n",
        "\n",
        "\n",
        "---"
      ],
      "metadata": {
        "id": "5PFwdU2OOgCD"
      }
    },
    {
      "cell_type": "code",
      "source": [
        "# @title Установка моделей Wan 2.1\n",
        "#Wan 2.1 Models\n",
        "print(\"📦 Загрузка модели VAE...\")\n",
        "!wget -c https://huggingface.co/Comfy-Org/Wan_2.1_ComfyUI_repackaged/resolve/main/split_files/vae/wan_2.1_vae.safetensors -P /content/ComfyUI/models/vae/\n",
        "clear_output()\n",
        "\n",
        "print(\"📦 Загрузка модели Text_Encoders...\")\n",
        "!wget -c https://huggingface.co/Comfy-Org/Wan_2.1_ComfyUI_repackaged/resolve/main/split_files/text_encoders/umt5_xxl_fp8_e4m3fn_scaled.safetensors -P /content/ComfyUI/models/text_encoders\n",
        "clear_output()\n",
        "\n",
        "print(\"📦 Загрузка модели Clip_Vision...\")\n",
        "!wget -c https://huggingface.co/Comfy-Org/Wan_2.1_ComfyUI_repackaged/resolve/main/split_files/clip_vision/clip_vision_h.safetensors -P /content/ComfyUI/models/clip_vision\n",
        "clear_output()\n",
        "\n",
        "print(\"📦 Загрузка модели Diffusion_Models Для генерации текст в видео...\")\n",
        "!wget -c https://huggingface.co/Comfy-Org/Wan_2.1_ComfyUI_repackaged/resolve/main/split_files/diffusion_models/wan2.1_t2v_1.3B_bf16.safetensors -P /content/ComfyUI/models/diffusion_models\n",
        "clear_output()\n",
        "\n",
        "print(\"📦 Загрузка модели Unet (Квантованная модель) Для генерации картинка в видео...\")\n",
        "!wget -c https://huggingface.co/city96/Wan2.1-I2V-14B-480P-gguf/resolve/main/wan2.1-i2v-14b-480p-Q3_K_M.gguf -P /content/ComfyUI/models/unet\n",
        "clear_output()\n",
        "\n",
        "print(\"😇😇😇 Загрузка модели успешна завершена теперь можно Запустить WEB интерфейс...\")"
      ],
      "metadata": {
        "id": "05mXoeQBCC2b",
        "cellView": "form",
        "collapsed": true
      },
      "execution_count": null,
      "outputs": []
    },
    {
      "cell_type": "markdown",
      "source": [
        "\n",
        "\n",
        "---\n",
        "\n",
        "\n",
        "# ***Запуск ComfyUI***\n",
        "\n",
        "\n",
        "---\n"
      ],
      "metadata": {
        "id": "QFRNURBddBPL"
      }
    },
    {
      "cell_type": "markdown",
      "metadata": {
        "id": "6Db1JPJlVffe"
      },
      "source": [
        "### ***Запуск ComfyUI через cloudflared (Рекомендуемый способ)***\n",
        "\n",
        "\n"
      ]
    },
    {
      "cell_type": "code",
      "source": [
        "#!cd \"/content/ComfyUI\""
      ],
      "metadata": {
        "id": "p-4uR9NIVffe"
      },
      "execution_count": null,
      "outputs": []
    },
    {
      "cell_type": "code",
      "execution_count": null,
      "metadata": {
        "id": "p-iS6V6wVffe"
      },
      "outputs": [],
      "source": [
        "!cd \"/content/ComfyUI\"\n",
        "\n",
        "!wget -P ~ https://github.com/cloudflare/cloudflared/releases/latest/download/cloudflared-linux-amd64.deb\n",
        "!dpkg -i ~/cloudflared-linux-amd64.deb\n",
        "\n",
        "import subprocess\n",
        "import threading\n",
        "import time\n",
        "import socket\n",
        "import urllib.request\n",
        "\n",
        "def iframe_thread(port):\n",
        "  while True:\n",
        "      time.sleep(0.5)\n",
        "      sock = socket.socket(socket.AF_INET, socket.SOCK_STREAM)\n",
        "      result = sock.connect_ex(('127.0.0.1', port))\n",
        "      if result == 0:\n",
        "        break\n",
        "      sock.close()\n",
        "  print(\"\\nComfyUI finished loading, trying to launch cloudflared (if it gets stuck here cloudflared is having issues)\\n\")\n",
        "\n",
        "  p = subprocess.Popen([\"cloudflared\", \"tunnel\", \"--url\", \"http://127.0.0.1:{}\".format(port)], stdout=subprocess.PIPE, stderr=subprocess.PIPE)\n",
        "  for line in p.stderr:\n",
        "    l = line.decode()\n",
        "    if \"trycloudflare.com \" in l:\n",
        "      print(\"👍👍👍Вот ваша ссылка к веб интерфейсу ComfyUI клик на неё👉👉👉:\", l[l.find(\"http\"):], end='')\n",
        "    #print(l, end='')\n",
        "\n",
        "\n",
        "threading.Thread(target=iframe_thread, daemon=True, args=(8188,)).start()\n",
        "\n",
        "!python /content/ComfyUI/main.py --dont-print-server"
      ]
    },
    {
      "cell_type": "markdown",
      "source": [
        "\n",
        "\n",
        "---\n",
        "\n",
        "\n",
        "### ***2 способ если 1 не будет работать Run ComfyUI with localtunnel***"
      ],
      "metadata": {
        "id": "bW7exafWU-YM"
      }
    },
    {
      "cell_type": "code",
      "execution_count": null,
      "metadata": {
        "id": "jjjjjjjjjjjjj"
      },
      "outputs": [],
      "source": [
        "!npm install -g localtunnel\n",
        "\n",
        "import subprocess\n",
        "import threading\n",
        "import time\n",
        "import socket\n",
        "import urllib.request\n",
        "\n",
        "def iframe_thread(port):\n",
        "  while True:\n",
        "      time.sleep(0.5)\n",
        "      sock = socket.socket(socket.AF_INET, socket.SOCK_STREAM)\n",
        "      result = sock.connect_ex(('127.0.0.1', port))\n",
        "      if result == 0:\n",
        "        break\n",
        "      sock.close()\n",
        "  print(\"\\nComfyUI finished loading, trying to launch localtunnel (if it gets stuck here localtunnel is having issues)\\n\")\n",
        "\n",
        "  print(\"The password/enpoint ip for localtunnel is:\", urllib.request.urlopen('https://ipv4.icanhazip.com').read().decode('utf8').strip(\"\\n\"))\n",
        "  p = subprocess.Popen([\"lt\", \"--port\", \"{}\".format(port)], stdout=subprocess.PIPE)\n",
        "  for line in p.stdout:\n",
        "    print(line.decode(), end='')\n",
        "\n",
        "\n",
        "threading.Thread(target=iframe_thread, daemon=True, args=(8188,)).start()\n",
        "\n",
        "!python /content/ComfyUI/main.py --dont-print-server"
      ]
    }
  ],
  "metadata": {
    "accelerator": "GPU",
    "colab": {
      "provenance": [],
      "gpuType": "T4",
      "include_colab_link": true
    },
    "kernelspec": {
      "display_name": "Python 3",
      "name": "python3"
    },
    "language_info": {
      "name": "python"
    }
  },
  "nbformat": 4,
  "nbformat_minor": 0
}